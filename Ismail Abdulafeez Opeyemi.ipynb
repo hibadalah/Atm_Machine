{
 "cells": [
  {
   "cell_type": "markdown",
   "id": "668239f4-e302-405a-9b22-cc114befa9ab",
   "metadata": {},
   "source": [
    "## **Student grade evaluator**"
   ]
  },
  {
   "cell_type": "markdown",
   "id": "c767e6c0-9ec2-47d9-a1bb-222d06d7ad5e",
   "metadata": {},
   "source": [
    "***This is a program that tells whether a student passed or failed***"
   ]
  },
  {
   "cell_type": "code",
   "execution_count": 10,
   "id": "954ce905-0234-46b4-bc54-99a71813a614",
   "metadata": {},
   "outputs": [],
   "source": [
    "def grade_student(score):\n",
    "    if score >= 80:\n",
    "        return \"A\"\n",
    "        \n",
    "    elif score >= 70:\n",
    "        return \"B\"\n",
    "        \n",
    "    elif score >= 60:\n",
    "        return \"C\"\n",
    "        \n",
    "    elif score >= 50:\n",
    "        return \"D\"\n",
    "        \n",
    "    else:\n",
    "        return \"F\"    "
   ]
  },
  {
   "cell_type": "code",
   "execution_count": 11,
   "id": "03569de3-4961-4165-95ad-5e7d1faf0e4b",
   "metadata": {},
   "outputs": [],
   "source": [
    "student_scores = [50, 35, 60, 70, 40, 85, 90, 72, 65]    "
   ]
  },
  {
   "cell_type": "code",
   "execution_count": 12,
   "id": "24cf7a68-a168-457d-875b-06019ea00013",
   "metadata": {},
   "outputs": [
    {
     "name": "stdout",
     "output_type": "stream",
     "text": [
      "Student 1: Score = 50, Grade = D\n",
      "Student 2: Score = 35, Grade = F\n",
      "Student 3: Score = 60, Grade = C\n",
      "Student 4: Score = 70, Grade = B\n",
      "Student 5: Score = 40, Grade = F\n",
      "Student 6: Score = 85, Grade = A\n",
      "Student 7: Score = 90, Grade = A\n",
      "Student 8: Score = 72, Grade = B\n",
      "Student 9: Score = 65, Grade = C\n"
     ]
    }
   ],
   "source": [
    "for student_num, score in enumerate(student_scores):\n",
    "    Grade = grade_student(score)\n",
    "    print(f\"Student {student_num + 1}: Score = {score}, Grade = {Grade}\")"
   ]
  },
  {
   "cell_type": "markdown",
   "id": "171aadc1-b031-4119-8171-0682bfb45414",
   "metadata": {},
   "source": [
    "## ATM SIMULATOR \n",
    "A mini-ATM system"
   ]
  },
  {
   "cell_type": "code",
   "execution_count": 1,
   "id": "719845f1-e948-4e93-87e1-8e1a5822c21a",
   "metadata": {},
   "outputs": [],
   "source": [
    "# This is a program that serves the function of a mini-ATM machine\n",
    "\n",
    "def atm_machine():\n",
    "    balance = 1000\n",
    "\n",
    "    while True: \n",
    "# These are going to display upon inserting an ATM card\n",
    "        \n",
    "        print(\"Welcome! Please, Select an option\")\n",
    "        print(\"1 -> Check Balance\")\n",
    "        print(\"2 -> Deposit Money\")\n",
    "        print(\"3 -> Withdraw Money\")\n",
    "        print(\"4 -> Exit\")  \n",
    "\n",
    "        user_input = int(input(\"Enter a number out of the option listed above\"))\n",
    "\n",
    "# This code will check for the account balance    \n",
    "        \n",
    "        if user_input == 1:\n",
    "            print(f\"Your current balance is {balance}\")\n",
    "            \n",
    "# This code will run to deposit into the customer's account\n",
    "        elif user_input == 2:\n",
    "            amount = int(input(\"Enter the amount you want to deposit\"))\n",
    "            if amount > 0:\n",
    "                balance += amount\n",
    "                print(f\"Current balance is {balance}\")\n",
    "            else:\n",
    "                print(\"Invalid Amount\")\n",
    "                \n",
    "# This is used to withdraw from the customer's account               \n",
    "        elif user_input == 3:\n",
    "            amount = int(input(\"Enter the amount you want to withdraw\"))\n",
    "            if amount > balance:\n",
    "                print(\"Insufficient fund\")\n",
    "            elif amount > 0:\n",
    "                balance -= amount\n",
    "                print(f\"Current balance is {balance}\")\n",
    "            else:\n",
    "                print(\"Invalid Amount\")\n",
    "                \n",
    "        elif user_input == 4:\n",
    "            print(\"Thank you for your service\")\n",
    "            break\n",
    "            \n",
    "        else:\n",
    "            print(\"Invalid entry, Try again\")\n",
    "            break\n",
    "        "
   ]
  }
 ],
 "metadata": {
  "kernelspec": {
   "display_name": "Python 3 (ipykernel)",
   "language": "python",
   "name": "python3"
  },
  "language_info": {
   "codemirror_mode": {
    "name": "ipython",
    "version": 3
   },
   "file_extension": ".py",
   "mimetype": "text/x-python",
   "name": "python",
   "nbconvert_exporter": "python",
   "pygments_lexer": "ipython3",
   "version": "3.12.7"
  }
 },
 "nbformat": 4,
 "nbformat_minor": 5
}
